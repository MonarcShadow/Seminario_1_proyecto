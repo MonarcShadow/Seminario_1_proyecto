{
 "cells": [
  {
   "cell_type": "markdown",
   "id": "f8c15c09",
   "metadata": {},
   "source": [
    "# Entrega Tarea 2\n",
    "#### Estudiantes:\n",
    "                    Carlos López 201830033-0\n",
    "                    Marias Perez "
   ]
  },
  {
   "cell_type": "markdown",
   "id": "15146a99",
   "metadata": {},
   "source": [
    "# Definicion del entorno de trabajo"
   ]
  },
  {
   "cell_type": "code",
   "execution_count": 16,
   "id": "aafed654",
   "metadata": {},
   "outputs": [
    {
     "name": "stdout",
     "output_type": "stream",
     "text": [
      "Python version: 3.6.15 (default, Sep 30 2025, 22:53:39) \n",
      "[GCC 11.4.0]\n",
      "MalmoPython importado correctamente\n",
      "Iniciando misión...\n",
      "Esperando cliente...\n",
      ".....\n",
      "¡Misión iniciada! 🚀\n",
      "Tipo de world_state: <class 'MalmoPython.WorldState'>\n",
      "Atributos: ['__class__', '__delattr__', '__dict__', '__dir__', '__doc__', '__eq__', '__format__', '__ge__', '__getattribute__', '__gt__', '__hash__', '__init__', '__init_subclass__', '__le__', '__lt__', '__module__', '__ne__', '__new__', '__reduce__', '__reduce_ex__', '__repr__', '__setattr__', '__sizeof__', '__str__', '__subclasshook__', '__weakref__', 'errors', 'has_mission_begun', 'is_mission_running', 'mission_control_messages', 'number_of_observations_since_last_state', 'number_of_rewards_since_last_state', 'number_of_video_frames_since_last_state', 'observations', 'rewards', 'video_frames']\n",
      "Misión terminada.\n"
     ]
    }
   ],
   "source": [
    "import sys, time\n",
    "import MalmoPython as Malmo\n",
    "\n",
    "print(f\"Python version: {sys.version}\")\n",
    "print(\"MalmoPython importado correctamente\")\n",
    "\n",
    "agent_host = Malmo.AgentHost()\n",
    "\n",
    "missionXML = '''<?xml version=\"1.0\" encoding=\"UTF-8\" standalone=\"no\" ?>\n",
    "<Mission xmlns=\"http://ProjectMalmo.microsoft.com\" \n",
    "         xmlns:xsi=\"http://www.w3.org/2001/XMLSchema-instance\">\n",
    "  <About>\n",
    "    <Summary>Prueba Malmo</Summary>\n",
    "  </About>\n",
    "\n",
    "  <ServerSection>\n",
    "    <ServerInitialConditions>\n",
    "      <Time>\n",
    "        <StartTime>1000</StartTime>\n",
    "        <AllowPassageOfTime>true</AllowPassageOfTime>\n",
    "      </Time>\n",
    "    </ServerInitialConditions>\n",
    "    <ServerHandlers>\n",
    "      <FlatWorldGenerator generatorString=\"3;7,2;1;\"/>\n",
    "      <DrawingDecorator>\n",
    "        <DrawBlock x=\"-2\" y=\"5\" z=\"0\" type=\"diamond_block\"/>\n",
    "      </DrawingDecorator>\n",
    "      <ServerQuitWhenAnyAgentFinishes/>\n",
    "    </ServerHandlers>\n",
    "  </ServerSection>\n",
    "\n",
    "  <AgentSection mode=\"Survival\">\n",
    "    <Name>CarlosBot</Name>\n",
    "    <AgentStart>\n",
    "      <Placement x=\"0.5\" y=\"4\" z=\"0.5\" yaw=\"90\"/>\n",
    "    </AgentStart>\n",
    "    <AgentHandlers>\n",
    "      <ObservationFromFullStats/>\n",
    "      <ContinuousMovementCommands/>\n",
    "      <AgentQuitFromTouchingBlockType>\n",
    "        <Block type=\"diamond_block\"/>\n",
    "      </AgentQuitFromTouchingBlockType>\n",
    "    </AgentHandlers>\n",
    "  </AgentSection>\n",
    "</Mission>\n",
    "'''\n",
    "\n",
    "mission = Malmo.MissionSpec(missionXML, True)\n",
    "mission_record = Malmo.MissionRecordSpec()\n",
    "\n",
    "# 🔹 Indicar el cliente (IP de Windows)\n",
    "client_pool = Malmo.ClientPool()\n",
    "client_pool.add(Malmo.ClientInfo(\"127.0.0.1\", 10000))  # Cambia por tu IP real\n",
    "\n",
    "print(\"Iniciando misión...\")\n",
    "agent_host.startMission(mission, client_pool, mission_record, 0, \"CarlosBot\")\n",
    "\n",
    "print(\"Esperando cliente...\")\n",
    "world_state = agent_host.getWorldState()\n",
    "#print(\"Tipo de world_state:\", type(world_state))\n",
    "#print(\"Atributos:\", dir(world_state))\n",
    "\n",
    "while not world_state.has_mission_begun:\n",
    "    print(\".\", end=\"\")\n",
    "    time.sleep(0.1)\n",
    "    world_state = agent_host.getWorldState()\n",
    "    for error in world_state.errors:\n",
    "        print(\"Error:\", error.text)\n",
    "print(\"\\n¡Misión iniciada! 🚀\")\n",
    "\n",
    "\n",
    "for _ in range(50):\n",
    "    agent_host.sendCommand(\"move 1\")\n",
    "    agent_host.sendCommand(\"jump 1\")\n",
    "    time.sleep(0.1)\n",
    "agent_host.sendCommand(\"move 0\")\n",
    "agent_host.sendCommand(\"jump 0\")\n",
    "print(\"Tipo de world_state:\", type(world_state))\n",
    "print(\"Atributos:\", dir(world_state))\n",
    "print(\"Misión terminada.\")\n"
   ]
  }
 ],
 "metadata": {
  "kernelspec": {
   "display_name": "3.6.15",
   "language": "python",
   "name": "python3"
  },
  "language_info": {
   "codemirror_mode": {
    "name": "ipython",
    "version": 3
   },
   "file_extension": ".py",
   "mimetype": "text/x-python",
   "name": "python",
   "nbconvert_exporter": "python",
   "pygments_lexer": "ipython3",
   "version": "3.6.15"
  }
 },
 "nbformat": 4,
 "nbformat_minor": 5
}
