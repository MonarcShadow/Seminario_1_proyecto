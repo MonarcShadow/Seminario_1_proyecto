{
 "cells": [
  {
   "cell_type": "markdown",
   "id": "f8c15c09",
   "metadata": {},
   "source": [
    "# Entrega Tarea 2\n",
    "#### Estudiantes:\n",
    "                    Carlos López 201830033-0\n",
    "                    Marias Perez "
   ]
  },
  {
   "cell_type": "markdown",
   "id": "15146a99",
   "metadata": {},
   "source": [
    "# Definicion del entorno de trabajo"
   ]
  },
  {
   "cell_type": "markdown",
   "id": "23292263",
   "metadata": {},
   "source": [
    "# Prueba de coneccion con el cliente\n",
    "\n",
    "El siguiente codigo activa una mision simple en la que el jugador avanza y salta para comprobar correcta coneccion con el cliente\n",
    "adicionalmente se define las caracteristica de un mundo plano y la colocacion de bloques especificos por medio de coordenadas"
   ]
  },
  {
   "cell_type": "markdown",
   "id": "d3902cd3",
   "metadata": {},
   "source": [
    "# Dependencias"
   ]
  },
  {
   "cell_type": "code",
   "execution_count": 13,
   "id": "4dfd4297",
   "metadata": {},
   "outputs": [
    {
     "name": "stdout",
     "output_type": "stream",
     "text": [
      "Python version: 3.6.15 (default, Sep 30 2025, 22:53:39) \n",
      "[GCC 11.4.0]\n",
      "MalmoPython importado correctamente\n",
      "Iniciando misión...\n",
      "Esperando cliente...\n",
      ".................................\n",
      "¡Misión iniciada! 🚀\n",
      "Tipo de world_state: <class 'MalmoPython.WorldState'>\n",
      "Atributos: ['__class__', '__delattr__', '__dict__', '__dir__', '__doc__', '__eq__', '__format__', '__ge__', '__getattribute__', '__gt__', '__hash__', '__init__', '__init_subclass__', '__le__', '__lt__', '__module__', '__ne__', '__new__', '__reduce__', '__reduce_ex__', '__repr__', '__setattr__', '__sizeof__', '__str__', '__subclasshook__', '__weakref__', 'errors', 'has_mission_begun', 'is_mission_running', 'mission_control_messages', 'number_of_observations_since_last_state', 'number_of_rewards_since_last_state', 'number_of_video_frames_since_last_state', 'observations', 'rewards', 'video_frames']\n",
      "Misión terminada.\n"
     ]
    }
   ],
   "source": [
    "import sys, time\n",
    "import MalmoPython as Malmo\n",
    "\n",
    "print(f\"Python version: {sys.version}\")\n",
    "print(\"MalmoPython importado correctamente\")\n",
    "\n",
    "agent_host = Malmo.AgentHost()\n",
    "\n",
    "missionXML = '''<?xml version=\"1.0\" encoding=\"UTF-8\" standalone=\"no\" ?>\n",
    "<Mission xmlns=\"http://ProjectMalmo.microsoft.com\" \n",
    "         xmlns:xsi=\"http://www.w3.org/2001/XMLSchema-instance\">\n",
    "  <About>\n",
    "    <Summary>Prueba Malmo</Summary>\n",
    "  </About>\n",
    "\n",
    "  <ServerSection>\n",
    "    <ServerInitialConditions>\n",
    "      <Time>\n",
    "        <StartTime>1000</StartTime>\n",
    "        <AllowPassageOfTime>true</AllowPassageOfTime>\n",
    "      </Time>\n",
    "    </ServerInitialConditions>\n",
    "    <ServerHandlers>\n",
    "      <FlatWorldGenerator generatorString=\"3;7,2;1;\"/>\n",
    "      <DrawingDecorator>\n",
    "        <DrawBlock x=\"-2\" y=\"5\" z=\"0\" type=\"diamond_block\"/>\n",
    "      </DrawingDecorator>\n",
    "      <ServerQuitWhenAnyAgentFinishes/>\n",
    "    </ServerHandlers>\n",
    "  </ServerSection>\n",
    "\n",
    "  <AgentSection mode=\"Survival\">\n",
    "    <Name>CarlosBot</Name>\n",
    "    <AgentStart>\n",
    "      <Placement x=\"0.5\" y=\"4\" z=\"0.5\" yaw=\"90\"/>\n",
    "    </AgentStart>\n",
    "    <AgentHandlers>\n",
    "      <ObservationFromFullStats/>\n",
    "      <ContinuousMovementCommands/>\n",
    "      <AgentQuitFromTouchingBlockType>\n",
    "        <Block type=\"diamond_block\"/>\n",
    "      </AgentQuitFromTouchingBlockType>\n",
    "    </AgentHandlers>\n",
    "  </AgentSection>\n",
    "</Mission>\n",
    "'''\n",
    "\n",
    "mission = Malmo.MissionSpec(missionXML, True)\n",
    "mission_record = Malmo.MissionRecordSpec()\n",
    "\n",
    "# 🔹 Indicar el cliente (IP de Windows)\n",
    "client_pool = Malmo.ClientPool()\n",
    "client_pool.add(Malmo.ClientInfo(\"127.0.0.1\", 10001))  # Cambia por tu IP real\n",
    "\n",
    "print(\"Iniciando misión...\")\n",
    "agent_host.startMission(mission, client_pool, mission_record, 0, \"CarlosBot\")\n",
    "\n",
    "print(\"Esperando cliente...\")\n",
    "world_state = agent_host.getWorldState()\n",
    "#print(\"Tipo de world_state:\", type(world_state))\n",
    "#print(\"Atributos:\", dir(world_state))\n",
    "\n",
    "while not world_state.has_mission_begun:\n",
    "    print(\".\", end=\"\")\n",
    "    time.sleep(0.1)\n",
    "    world_state = agent_host.getWorldState()\n",
    "    for error in world_state.errors:\n",
    "        print(\"Error:\", error.text)\n",
    "print(\"\\n¡Misión iniciada! 🚀\")\n",
    "\n",
    "\n",
    "for _ in range(50):\n",
    "    agent_host.sendCommand(\"move 1\")\n",
    "    agent_host.sendCommand(\"jump 1\")\n",
    "    time.sleep(0.1)\n",
    "agent_host.sendCommand(\"move 0\")\n",
    "agent_host.sendCommand(\"jump 0\")\n",
    "print(\"Tipo de world_state:\", type(world_state))\n",
    "print(\"Atributos:\", dir(world_state))\n",
    "print(\"Misión terminada.\")\n"
   ]
  },
  {
   "cell_type": "code",
   "execution_count": 14,
   "id": "b4a279c6",
   "metadata": {},
   "outputs": [],
   "source": [
    "import sys, time\n",
    "import MalmoPython as Malmo\n",
    "from pathlib import Path\n",
    "from string import Template\n",
    "import re"
   ]
  },
  {
   "cell_type": "markdown",
   "id": "313e732b",
   "metadata": {},
   "source": [
    "# Comprobar versiones"
   ]
  },
  {
   "cell_type": "code",
   "execution_count": 15,
   "id": "abb7d8c5",
   "metadata": {},
   "outputs": [
    {
     "name": "stdout",
     "output_type": "stream",
     "text": [
      "Python version: 3.6.15 (default, Sep 30 2025, 22:53:39) \n",
      "[GCC 11.4.0]\n",
      "Versión de Malmo: 0.37.0\n"
     ]
    }
   ],
   "source": [
    "print(f\"Python version: {sys.version}\")\n",
    "\n",
    "# Ruta al archivo malmo.properties (ajústala si es necesario)\n",
    "ruta = \"/home/carlos/MalmoPlatform/Malmo-0.37.0-Linux-Ubuntu-18.04-64bit_withBoost_Python3.6/malmo.properties\"\n",
    "\n",
    "with open(ruta, \"r\") as f:\n",
    "    linea = f.readline().strip()\n",
    "# Extrae solo el número después del signo '='\n",
    "version = linea.split(\"=\")[-1]\n",
    "print(\"Versión de Malmo:\", version)"
   ]
  },
  {
   "cell_type": "markdown",
   "id": "c6b8ab18",
   "metadata": {},
   "source": [
    "# Definiendo la mision de la ejecucion"
   ]
  },
  {
   "cell_type": "markdown",
   "id": "3f7a3e0f",
   "metadata": {},
   "source": [
    "Se definira las mision segun contenido de archivos xml"
   ]
  },
  {
   "cell_type": "code",
   "execution_count": 16,
   "id": "0741629c",
   "metadata": {},
   "outputs": [
    {
     "name": "stdout",
     "output_type": "stream",
     "text": [
      "Misiones disponibles: busca_aldea, busca_carbon, busca_hierro, busca_madera, busca_piedra, flat_test, mundo_normal\n"
     ]
    }
   ],
   "source": [
    "from typing import List  # compatible con 3.6–3.8\n",
    "\n",
    "# Catálogo de misiones basado en archivos .xml\n",
    "ROOT = Path().resolve()\n",
    "MISSIONS_DIR = ROOT / \"misiones\"\n",
    "\n",
    "def list_missions() -> List[str]:\n",
    "    if not MISSIONS_DIR.exists():\n",
    "        print(f\"No existe la carpeta: {MISSIONS_DIR}\")\n",
    "        return []\n",
    "    files = sorted(p.stem for p in MISSIONS_DIR.glob(\"*.xml\"))\n",
    "    print(\"Misiones disponibles:\", \", \".join(files) if files else \"(ninguna)\")\n",
    "    return files\n",
    "\n",
    "def _load_xml(name: str) -> str:\n",
    "    path = MISSIONS_DIR / f\"{name}.xml\"  # corregido\n",
    "    if not path.exists():\n",
    "        raise FileNotFoundError(f\"No se encontró la misión: {path}\")\n",
    "    return path.read_text(encoding=\"utf-8\")\n",
    "\n",
    "def render_mission(name: str, **params) -> str:\n",
    "    raw = _load_xml(name)\n",
    "    converted = re.sub(r\"\\{\\{(\\w+)\\}\\}\", r\"${\\1}\", raw)\n",
    "    return Template(converted).substitute(**params)\n",
    "\n",
    "def missions_catalog(**defaults):\n",
    "    def get(name: str, **overrides):\n",
    "        return render_mission(name, **{**defaults, **overrides})\n",
    "    return get\n",
    "\n",
    "# Mostrar las misiones detectadas\n",
    "list_missions()\n",
    "\n",
    "# Instanciar el catálogo con valores por defecto y construir el XML\n",
    "get_mission = missions_catalog(start_time=1000, agent_name=\"CarlosBot\")\n",
    "\n"
   ]
  },
  {
   "cell_type": "markdown",
   "id": "c5cf40fa",
   "metadata": {},
   "source": [
    "# Escoger mision"
   ]
  },
  {
   "cell_type": "code",
   "execution_count": 19,
   "id": "8c19b850",
   "metadata": {},
   "outputs": [],
   "source": [
    "missionXML = get_mission(\"flat_test\")"
   ]
  },
  {
   "cell_type": "markdown",
   "id": "99880f12",
   "metadata": {},
   "source": [
    "# Realizando coneccion"
   ]
  },
  {
   "cell_type": "code",
   "execution_count": 20,
   "id": "b226d7b8",
   "metadata": {},
   "outputs": [
    {
     "name": "stdout",
     "output_type": "stream",
     "text": [
      "Iniciando misión...\n",
      "Esperando cliente...\n",
      ".....\n",
      "¡Misión iniciada! 🚀\n"
     ]
    }
   ],
   "source": [
    "agent_host = Malmo.AgentHost()\n",
    "mission = Malmo.MissionSpec(missionXML, True)\n",
    "mission_record = Malmo.MissionRecordSpec()\n",
    "\n",
    "# 🔹 Indicar el cliente (IP de Windows)\n",
    "client_pool = Malmo.ClientPool()\n",
    "client_pool.add(Malmo.ClientInfo(\"127.0.0.1\", 10001))  # Cambia por tu IP real\n",
    "\n",
    "print(\"Iniciando misión...\")\n",
    "agent_host.startMission(mission, client_pool, mission_record, 0, \"CarlosBot2\")\n",
    "\n",
    "print(\"Esperando cliente...\")\n",
    "world_state = agent_host.getWorldState()\n",
    "#print(\"Tipo de world_state:\", type(world_state))\n",
    "#print(\"Atributos:\", dir(world_state))\n",
    "\n",
    "while not world_state.has_mission_begun:\n",
    "    print(\".\", end=\"\")\n",
    "    time.sleep(0.1)\n",
    "    world_state = agent_host.getWorldState()\n",
    "    for error in world_state.errors:\n",
    "        print(\"Error:\", error.text)\n",
    "print(\"\\n¡Misión iniciada! 🚀\")"
   ]
  },
  {
   "cell_type": "markdown",
   "id": "b5d6a52d",
   "metadata": {},
   "source": [
    "# Instrucciones de movimiento"
   ]
  },
  {
   "cell_type": "code",
   "execution_count": 21,
   "id": "aafed654",
   "metadata": {},
   "outputs": [
    {
     "name": "stdout",
     "output_type": "stream",
     "text": [
      "Misión terminada.\n"
     ]
    }
   ],
   "source": [
    "for _ in range(50):\n",
    "    agent_host.sendCommand(\"move 1\")\n",
    "    agent_host.sendCommand(\"jump 1\")\n",
    "    time.sleep(0.1)\n",
    "\n",
    "agent_host.sendCommand(\"move 0\")\n",
    "agent_host.sendCommand(\"jump 0\")\n",
    "print(\"Misión terminada.\")"
   ]
  },
  {
   "cell_type": "markdown",
   "id": "e41c7fa3",
   "metadata": {},
   "source": [
    "# Datos que se obtienen del entorno"
   ]
  },
  {
   "cell_type": "code",
   "execution_count": 22,
   "id": "d52e45e6",
   "metadata": {},
   "outputs": [
    {
     "name": "stdout",
     "output_type": "stream",
     "text": [
      "Tipo de world_state: <class 'MalmoPython.WorldState'>\n",
      "Atributos: ['__class__', '__delattr__', '__dict__', '__dir__', '__doc__', '__eq__', '__format__', '__ge__', '__getattribute__', '__gt__', '__hash__', '__init__', '__init_subclass__', '__le__', '__lt__', '__module__', '__ne__', '__new__', '__reduce__', '__reduce_ex__', '__repr__', '__setattr__', '__sizeof__', '__str__', '__subclasshook__', '__weakref__', 'errors', 'has_mission_begun', 'is_mission_running', 'mission_control_messages', 'number_of_observations_since_last_state', 'number_of_rewards_since_last_state', 'number_of_video_frames_since_last_state', 'observations', 'rewards', 'video_frames']\n"
     ]
    }
   ],
   "source": [
    "print(\"Tipo de world_state:\", type(world_state))\n",
    "print(\"Atributos:\", dir(world_state))"
   ]
  }
 ],
 "metadata": {
  "kernelspec": {
   "display_name": "Python 3",
   "language": "python",
   "name": "python3"
  },
  "language_info": {
   "codemirror_mode": {
    "name": "ipython",
    "version": 3
   },
   "file_extension": ".py",
   "mimetype": "text/x-python",
   "name": "python",
   "nbconvert_exporter": "python",
   "pygments_lexer": "ipython3",
   "version": "3.6.15"
  }
 },
 "nbformat": 4,
 "nbformat_minor": 5
}
