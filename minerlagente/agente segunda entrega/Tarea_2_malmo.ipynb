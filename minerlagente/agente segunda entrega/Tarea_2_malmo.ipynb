{
 "cells": [
  {
   "cell_type": "markdown",
   "id": "f8c15c09",
   "metadata": {},
   "source": [
    "# Entrega Tarea 2\n",
    "#### Estudiantes:\n",
    "                    Carlos López 201830033-0\n",
    "                    Marias Perez "
   ]
  },
  {
   "cell_type": "markdown",
   "id": "15146a99",
   "metadata": {},
   "source": [
    "# Definicion del entorno de trabajo"
   ]
  },
  {
   "cell_type": "code",
   "execution_count": null,
   "id": "aafed654",
   "metadata": {},
   "outputs": [
    {
     "ename": "",
     "evalue": "",
     "output_type": "error",
     "traceback": [
      "\u001b[1;31mLa ejecución de celdas con 'Python 3.6.15' requiere el paquete ipykernel.\n",
      "\u001b[1;31m<a href='command:jupyter.createPythonEnvAndSelectController'>Crear un entorno de Python</a> con los paquetes necesarios.\n",
      "\u001b[1;31mO instale \"ipykernel\" mediante el comando: \"/home/carlos/.pyenv/versions/malmo-py36/bin/python -m pip install ipykernel -U --user --force-reinstall\""
     ]
    }
   ],
   "source": [
    "import sys\n",
    "import MalmoPython as Malmo\n",
    "\n",
    "print(f\"Python version: {sys.version}\")\n",
    "print(\"MalmoPython importado correctamente\")"
   ]
  }
 ],
 "metadata": {
  "kernelspec": {
   "display_name": "Python 3",
   "language": "python",
   "name": "python3"
  },
  "language_info": {
   "name": "python",
   "version": "3.6.15"
  }
 },
 "nbformat": 4,
 "nbformat_minor": 5
}
