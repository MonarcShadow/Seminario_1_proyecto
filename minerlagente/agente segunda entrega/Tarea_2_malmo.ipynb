{
 "cells": [
  {
   "cell_type": "markdown",
   "id": "f8c15c09",
   "metadata": {},
   "source": [
    "# Entrega Tarea 2\n",
    "#### Estudiantes:\n",
    "                    Carlos López 201830033-0\n",
    "                    Marias Perez "
   ]
  },
  {
   "cell_type": "markdown",
   "id": "15146a99",
   "metadata": {},
   "source": [
    "# Definicion del entorno de trabajo"
   ]
  },
  {
   "cell_type": "code",
   "execution_count": 2,
   "id": "aafed654",
   "metadata": {},
   "outputs": [
    {
     "name": "stdout",
     "output_type": "stream",
     "text": [
      "Python version: 3.6.15 (default, Sep 30 2025, 22:53:39) \n",
      "[GCC 11.4.0]\n",
      "MalmoPython importado correctamente\n",
      "Iniciando misión...\n",
      "Esperando cliente...\n",
      "..............................................................................................................................................................................................................................."
     ]
    },
    {
     "ename": "KeyboardInterrupt",
     "evalue": "",
     "output_type": "error",
     "traceback": [
      "\u001b[0;31m---------------------------------------------------------------------------\u001b[0m",
      "\u001b[0;31mKeyboardInterrupt\u001b[0m                         Traceback (most recent call last)",
      "\u001b[0;32m<ipython-input-2-81a4a4df1578>\u001b[0m in \u001b[0;36m<module>\u001b[0;34m\u001b[0m\n\u001b[1;32m     63\u001b[0m \u001b[0;32mwhile\u001b[0m \u001b[0;32mnot\u001b[0m \u001b[0mworld_state\u001b[0m\u001b[0;34m.\u001b[0m\u001b[0mhas_mission_begun\u001b[0m\u001b[0;34m:\u001b[0m\u001b[0;34m\u001b[0m\u001b[0;34m\u001b[0m\u001b[0m\n\u001b[1;32m     64\u001b[0m     \u001b[0mprint\u001b[0m\u001b[0;34m(\u001b[0m\u001b[0;34m\".\"\u001b[0m\u001b[0;34m,\u001b[0m \u001b[0mend\u001b[0m\u001b[0;34m=\u001b[0m\u001b[0;34m\"\"\u001b[0m\u001b[0;34m)\u001b[0m\u001b[0;34m\u001b[0m\u001b[0;34m\u001b[0m\u001b[0m\n\u001b[0;32m---> 65\u001b[0;31m     \u001b[0mtime\u001b[0m\u001b[0;34m.\u001b[0m\u001b[0msleep\u001b[0m\u001b[0;34m(\u001b[0m\u001b[0;36m0.1\u001b[0m\u001b[0;34m)\u001b[0m\u001b[0;34m\u001b[0m\u001b[0;34m\u001b[0m\u001b[0m\n\u001b[0m\u001b[1;32m     66\u001b[0m     \u001b[0mworld_state\u001b[0m \u001b[0;34m=\u001b[0m \u001b[0magent_host\u001b[0m\u001b[0;34m.\u001b[0m\u001b[0mgetWorldState\u001b[0m\u001b[0;34m(\u001b[0m\u001b[0;34m)\u001b[0m\u001b[0;34m\u001b[0m\u001b[0;34m\u001b[0m\u001b[0m\n\u001b[1;32m     67\u001b[0m     \u001b[0;32mfor\u001b[0m \u001b[0merror\u001b[0m \u001b[0;32min\u001b[0m \u001b[0mworld_state\u001b[0m\u001b[0;34m.\u001b[0m\u001b[0merrors\u001b[0m\u001b[0;34m:\u001b[0m\u001b[0;34m\u001b[0m\u001b[0;34m\u001b[0m\u001b[0m\n",
      "\u001b[0;31mKeyboardInterrupt\u001b[0m: "
     ]
    }
   ],
   "source": [
    "import sys, time\n",
    "import MalmoPython as Malmo\n",
    "\n",
    "print(f\"Python version: {sys.version}\")\n",
    "print(\"MalmoPython importado correctamente\")\n",
    "\n",
    "agent_host = Malmo.AgentHost()\n",
    "\n",
    "missionXML = '''<?xml version=\"1.0\" encoding=\"UTF-8\" standalone=\"no\" ?>\n",
    "<Mission xmlns=\"http://ProjectMalmo.microsoft.com\" \n",
    "         xmlns:xsi=\"http://www.w3.org/2001/XMLSchema-instance\">\n",
    "  <About>\n",
    "    <Summary>Prueba Malmo</Summary>\n",
    "  </About>\n",
    "\n",
    "  <ServerSection>\n",
    "    <ServerInitialConditions>\n",
    "      <Time>\n",
    "        <StartTime>1000</StartTime>\n",
    "        <AllowPassageOfTime>true</AllowPassageOfTime>\n",
    "      </Time>\n",
    "    </ServerInitialConditions>\n",
    "    <ServerHandlers>\n",
    "      <FlatWorldGenerator generatorString=\"3;7,2;1;\"/>\n",
    "      <DrawingDecorator>\n",
    "        <DrawBlock x=\"-2\" y=\"3\" z=\"0\" type=\"diamond_block\"/>\n",
    "      </DrawingDecorator>\n",
    "      <ServerQuitWhenAnyAgentFinishes/>\n",
    "    </ServerHandlers>\n",
    "  </ServerSection>\n",
    "\n",
    "  <AgentSection mode=\"Survival\">\n",
    "    <Name>CarlosBot</Name>\n",
    "    <AgentStart>\n",
    "      <Placement x=\"0.5\" y=\"4\" z=\"0.5\" yaw=\"90\"/>\n",
    "    </AgentStart>\n",
    "    <AgentHandlers>\n",
    "      <ObservationFromFullStats/>\n",
    "      <ContinuousMovementCommands/>\n",
    "      <AgentQuitFromTouchingBlockType>\n",
    "        <Block type=\"diamond_block\"/>\n",
    "      </AgentQuitFromTouchingBlockType>\n",
    "    </AgentHandlers>\n",
    "  </AgentSection>\n",
    "</Mission>\n",
    "'''\n",
    "\n",
    "mission = Malmo.MissionSpec(missionXML, True)\n",
    "mission_record = Malmo.MissionRecordSpec()\n",
    "\n",
    "# 🔹 Indicar el cliente (IP de Windows)\n",
    "client_pool = Malmo.ClientPool()\n",
    "client_pool.add(Malmo.ClientInfo(\"192.168.100.50\", 10000))  # Cambia por tu IP real\n",
    "\n",
    "print(\"Iniciando misión...\")\n",
    "agent_host.startMission(mission, client_pool, mission_record, 0, \"CarlosBot\")\n",
    "\n",
    "print(\"Esperando cliente...\")\n",
    "world_state = agent_host.getWorldState()\n",
    "#print(\"Tipo de world_state:\", type(world_state))\n",
    "#print(\"Atributos:\", dir(world_state))\n",
    "\n",
    "while not world_state.has_mission_begun:\n",
    "    print(\".\", end=\"\")\n",
    "    time.sleep(0.1)\n",
    "    world_state = agent_host.getWorldState()\n",
    "    for error in world_state.errors:\n",
    "        print(\"Error:\", error.text)\n",
    "print(\"\\n¡Misión iniciada! 🚀\")\n",
    "\n",
    "\n",
    "for _ in range(50):\n",
    "    agent_host.sendCommand(\"move 1\")\n",
    "    time.sleep(0.1)\n",
    "\n",
    "print(\"Misión terminada.\")\n"
   ]
  }
 ],
 "metadata": {
  "kernelspec": {
   "display_name": "malmo-py36",
   "language": "python",
   "name": "python3"
  },
  "language_info": {
   "codemirror_mode": {
    "name": "ipython",
    "version": 3
   },
   "file_extension": ".py",
   "mimetype": "text/x-python",
   "name": "python",
   "nbconvert_exporter": "python",
   "pygments_lexer": "ipython3",
   "version": "3.6.15"
  }
 },
 "nbformat": 4,
 "nbformat_minor": 5
}
